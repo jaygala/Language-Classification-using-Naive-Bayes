{
  "nbformat": 4,
  "nbformat_minor": 0,
  "metadata": {
    "kernelspec": {
      "display_name": "Python 3",
      "language": "python",
      "name": "python3"
    },
    "language_info": {
      "codemirror_mode": {
        "name": "ipython",
        "version": 3
      },
      "file_extension": ".py",
      "mimetype": "text/x-python",
      "name": "python",
      "nbconvert_exporter": "python",
      "pygments_lexer": "ipython3",
      "version": "3.6.9"
    },
    "colab": {
      "name": "Language Classification using Naive Bayes.ipynb",
      "provenance": [],
      "collapsed_sections": [
        "W0iVNMea1pOk",
        "cfTSbCb11pPI",
        "XZZQXc9b1pPb",
        "S4wgZ4N_1pPd",
        "whrtKNE71pP3"
      ]
    }
  },
  "cells": [
    {
      "cell_type": "markdown",
      "metadata": {
        "ExecuteTime": {
          "end_time": "2020-02-19T11:23:20.365409Z",
          "start_time": "2020-02-19T11:23:20.354206Z"
        },
        "id": "2uIofgHH1pOR",
        "colab_type": "text"
      },
      "source": [
        "# Language Classification with Naive Bayes in Python"
      ]
    },
    {
      "cell_type": "markdown",
      "metadata": {
        "id": "NW4iTe9r1pOT",
        "colab_type": "text"
      },
      "source": [
        "## Recommended Prerequisites for Successful Completion\n",
        "* Intermediate level understanding of Python 3+ (e.g. list and dictionary comprehension)\n",
        "* Basics of machine learning (e.g. the distinction between training and validation data)\n",
        "* Mathematical probability (e.g. understanding Bayes' Theorem at a basic level)\n"
      ]
    },
    {
      "cell_type": "markdown",
      "metadata": {
        "id": "JkWUT2kl1pOU",
        "colab_type": "text"
      },
      "source": [
        "## Project Outline\n",
        "[**Introduction**](#intro)\n",
        "\n",
        "[**Task 1**](#task1): Exploratory Data Analysis + Visualization\n",
        "\n",
        "[**Task 2**](#task2): Data Cleaning and Preprocessing\n",
        "\n",
        "[**Task 3**](#task3): Naive Bayes Model Introduction and Training\n",
        "\n",
        "[**Task 4**](#task4): Highlighting Problems with Basic Model and Simple Fixes\n",
        "\n",
        "[**Task 5**](#task5): Advanced Approach to Further Improve Performance"
      ]
    },
    {
      "cell_type": "code",
      "metadata": {
        "id": "U_riyLee1pOU",
        "colab_type": "code",
        "colab": {}
      },
      "source": [
        "import matplotlib\n",
        "%matplotlib inline\n",
        "%config InlineBackend.figure_format = 'svg'\n",
        "import matplotlib.pyplot as plt\n",
        "plt.style.use('ggplot')\n",
        "\n",
        "import numpy as np\n",
        "import string\n",
        "\n",
        "from collections import defaultdict\n",
        "\n",
        "from sklearn.metrics import f1_score\n",
        "from sklearn.naive_bayes import MultinomialNB\n",
        "from sklearn.feature_extraction.text import CountVectorizer\n",
        "\n",
        "import joblib\n",
        "import pickle as pkl\n",
        "\n",
        "from helper_code import *"
      ],
      "execution_count": 0,
      "outputs": []
    },
    {
      "cell_type": "markdown",
      "metadata": {
        "id": "OzjcZKSY1pOZ",
        "colab_type": "text"
      },
      "source": [
        "<a id='intro'></a>\n",
        "# Introduction"
      ]
    },
    {
      "cell_type": "code",
      "metadata": {
        "id": "6jRWgokC1pOb",
        "colab_type": "code",
        "colab": {}
      },
      "source": [
        "# Here we are just loading a model that we had trained earlier\n",
        "model = joblib.load('Data/Models/final_model.joblib')\n",
        "vectorizer = joblib.load('Data/Vectorizers/final_model.joblib')"
      ],
      "execution_count": 0,
      "outputs": []
    },
    {
      "cell_type": "markdown",
      "metadata": {
        "id": "vxmqdjJw1pOg",
        "colab_type": "text"
      },
      "source": [
        "\n",
        "## [Slovak Wikipedia Entry](https://sk.wikipedia.org/wiki/Jazveč%C3%ADk)\n",
        "Mnohí ľudia, ktorí vidia na ulici jazvečíka s podlhovastým telom vôbec nevedia o tom, že tento malý štvornohý a veľmi obľúbený spoločník je pri dobrom výcviku obratným, vynikajúcim a spoľahlivým poľovným psom. Ako poľovný pes je mnohostranne využiteľný, okrem iného ako durič na brlohárenie. Králičí jazvečík sa dokáže obratne pohybovať v králičej nore. S inými psami a deťmi si nie vždy rozumie.\n",
        "\n",
        "## [Czech Wikipedia Entry](https://cs.wikipedia.org/wiki/Jezevč%C3%ADk)\n",
        "Úplně první zmínky o psech podobných dnešním jezevčíkům nacházíme až ve Starém Egyptě, kde jsou vyobrazeni na soškách a rytinách krátkonozí psi s dlouhým hřbetem a krátkou srstí. Jednalo se ale o neustálený typ bez ustáleného jména. Další zmínky o jezevčících nacházíme až ve 14 - 15. století. Jedná se o psa, který se nejvíce podobá dnešnímu typu hladkosrstého standardního jezevčíka.\n",
        "\n",
        "\n",
        "## [English Wikipedia Entry](https://en.wikipedia.org/wiki/Dachshund)\n",
        "While classified in the hound group or scent hound group in the United States and Great Britain, the breed has its own group in the countries which belong to the Fédération Cynologique Internationale (World Canine Federation). Many dachshunds, especially the wire-haired subtype, may exhibit behavior and appearance that are similar to that of the terrier group of dogs."
      ]
    },
    {
      "cell_type": "code",
      "metadata": {
        "id": "wuk4VDWD1pOg",
        "colab_type": "code",
        "colab": {}
      },
      "source": [
        "# Checking that our previous model is working\n",
        "text = 'okrem iného ako durič na brlohárenie'\n",
        "text = preprocess_function(text)\n",
        "text = [split_into_subwords_function(text)]\n",
        "text_vectorized = vectorizer.transform(text)\n",
        "\n",
        "model.predict(text_vectorized)"
      ],
      "execution_count": 0,
      "outputs": []
    },
    {
      "cell_type": "markdown",
      "metadata": {
        "id": "mSYjK5Sc511L",
        "colab_type": "text"
      },
      "source": [
        "# NOW LET US START FROM SCRATCH.......\n"
      ]
    },
    {
      "cell_type": "markdown",
      "metadata": {
        "id": "W0iVNMea1pOk",
        "colab_type": "text"
      },
      "source": [
        "<a id='task1'></a>\n",
        "# Task 1: Data Exploration and Visualization"
      ]
    },
    {
      "cell_type": "code",
      "metadata": {
        "ExecuteTime": {
          "end_time": "2020-02-19T11:23:20.494486Z",
          "start_time": "2020-02-19T11:23:20.491600Z"
        },
        "id": "t9FCKJr11pOm",
        "colab_type": "code",
        "colab": {}
      },
      "source": [
        "def open_file(filename):\n",
        "    with open(filename, 'r') as f:\n",
        "        data = f.readlines()\n",
        "    return data"
      ],
      "execution_count": 0,
      "outputs": []
    },
    {
      "cell_type": "code",
      "metadata": {
        "ExecuteTime": {
          "end_time": "2020-02-19T11:23:20.654712Z",
          "start_time": "2020-02-19T11:23:20.651474Z"
        },
        "id": "hxHs7H9t1pOu",
        "colab_type": "code",
        "colab": {}
      },
      "source": [
        "data_raw = dict()\n",
        "data_raw['sk']= open_file('Data/Sentences/train_sentences.sk')\n",
        "data_raw['cs']= open_file('Data/Sentences/train_sentences.cs')\n",
        "data_raw['en']= open_file('Data/Sentences/train_sentences.en')"
      ],
      "execution_count": 0,
      "outputs": []
    },
    {
      "cell_type": "code",
      "metadata": {
        "id": "spX6ZN811pO2",
        "colab_type": "code",
        "colab": {}
      },
      "source": [
        "def show_statistics(data):\n",
        "    for language, sentences in data.items():\n",
        "        \n",
        "        number_of_sentences = 0\n",
        "        number_of_words = 0\n",
        "        number_of_unique_words = 0\n",
        "        sample_extract = ''\n",
        "        \n",
        "        # take a few minutes to try populate these variables\n",
        "        \n",
        "        # here is a hint -- word_list breaks the collections of sentences into a list of words\n",
        "        word_list = ' '.join(sentences).split()\n",
        "        \n",
        "        number_of_sentences = len(sentences)\n",
        "        number_of_words = len(word_list)\n",
        "        number_of_unique_words = len(set(word_list))\n",
        "        sample_extract = ' '.join(sentences[0].split()[0:7])\n",
        "        \n",
        "        print(f'Language: {language}')\n",
        "        print('-----------------------')\n",
        "        print(f'Number of sentences\\t:\\t {number_of_sentences}')\n",
        "        print(f'Number of words\\t\\t:\\t {number_of_words}')\n",
        "        print(f'Number of unique words\\t:\\t {number_of_unique_words}')\n",
        "        print(f'Sample extract\\t\\t:\\t {sample_extract}...\\n')"
      ],
      "execution_count": 0,
      "outputs": []
    },
    {
      "cell_type": "code",
      "metadata": {
        "id": "H2HoIpHY1pO9",
        "colab_type": "code",
        "colab": {}
      },
      "source": [
        "show_statistics(data_raw)"
      ],
      "execution_count": 0,
      "outputs": []
    },
    {
      "cell_type": "code",
      "metadata": {
        "id": "gBTSXK5q1pPA",
        "colab_type": "code",
        "colab": {}
      },
      "source": [
        "do_law_of_zipf(data_raw)"
      ],
      "execution_count": 0,
      "outputs": []
    },
    {
      "cell_type": "markdown",
      "metadata": {
        "id": "cfTSbCb11pPI",
        "colab_type": "text"
      },
      "source": [
        "<a id='task2'></a>\n",
        "# Task 2: Data Cleaning and Preprocessing"
      ]
    },
    {
      "cell_type": "code",
      "metadata": {
        "ExecuteTime": {
          "end_time": "2020-02-19T11:23:21.346649Z",
          "start_time": "2020-02-19T11:23:21.343250Z"
        },
        "id": "JAUJvfLf1pPJ",
        "colab_type": "code",
        "colab": {}
      },
      "source": [
        "def preprocess(text):\n",
        "    '''\n",
        "    Removes punctuation and digits from a string, and converts all characters to lowercase. \n",
        "    Also clears all \\n and hyphens (splits hyphenated words into two words).\n",
        "    \n",
        "    '''\n",
        "        \n",
        "    preprocessed_text = text\n",
        "\n",
        "    preprocessed_text = text.lower()\n",
        "    preprocessed_text = preprocessed_text.replace('-',' ')\n",
        "\n",
        "    translation_table = str.maketrans('\\n', ' ', string.punctuation+string.digits)\n",
        "    preprocessed_text = preprocessed_text.translate(translation_table)\n",
        "        \n",
        "    return preprocessed_text"
      ],
      "execution_count": 0,
      "outputs": []
    },
    {
      "cell_type": "code",
      "metadata": {
        "id": "jDCMjV5s1pPP",
        "colab_type": "code",
        "colab": {}
      },
      "source": [
        "str.translate?"
      ],
      "execution_count": 0,
      "outputs": []
    },
    {
      "cell_type": "code",
      "metadata": {
        "id": "GQCW0jny1pPV",
        "colab_type": "code",
        "colab": {}
      },
      "source": [
        "data_preprocessed = {k: [preprocess(sentence) for sentence in v] for k,v in data_raw.items()}"
      ],
      "execution_count": 0,
      "outputs": []
    },
    {
      "cell_type": "code",
      "metadata": {
        "id": "d8vyFtSVG0su",
        "colab_type": "code",
        "colab": {}
      },
      "source": [
        "print(\"Raw:-\\n\")\n",
        "show_statistics(data_raw)\n",
        "\n",
        "print(\"\\nPreprocessed:-\\n\")\n",
        "show_statistics(data_preprocessed)"
      ],
      "execution_count": 0,
      "outputs": []
    },
    {
      "cell_type": "markdown",
      "metadata": {
        "id": "7GagaOIe1pPZ",
        "colab_type": "text"
      },
      "source": [
        "<a id='task3'></a>\n",
        "# Task 3: The Naive Bayes Model"
      ]
    },
    {
      "cell_type": "markdown",
      "metadata": {
        "id": "3reujYYU1pPa",
        "colab_type": "text"
      },
      "source": [
        "**Bayes' Theorem**\n",
        "\n",
        "\\begin{equation}\n",
        "P(A | B)=\\frac{P(B | A) \\times P(A)}{P(B)}\n",
        "\\end{equation}\n",
        "\n",
        "Now, let's translate this theory into our specific problem. In our case, where we want to categorise a sentence `my name is Ari` into one of `sk`, `cs`, or `en`, the following are the probabilities we want to determine.\n",
        "\n",
        "\\begin{equation}\n",
        "P(\\text {sk} | \\text {my name is Ari})=\\frac{P(\\text {my name is Ari} | \\text {sk}) \\times P(\\text {sk})}{P(\\text {my name is Ari})}\n",
        "\\end{equation}\n",
        "\n",
        "\\begin{equation}\n",
        "P(\\text {cs} | \\text {my name is Ari})=\\frac{P(\\text {my name is Ari} | \\text {cs}) \\times P(\\text {cs})}{P(\\text {my name is Ari})}\n",
        "\\end{equation}\n",
        "\n",
        "\\begin{equation}\n",
        "P(\\text {en} | \\text {my name is Ari})=\\frac{P(\\text {my name is Ari} | \\text {en}) \\times P(\\text {en})}{P(\\text {my name is Ari})}\n",
        "\\end{equation}"
      ]
    },
    {
      "cell_type": "markdown",
      "metadata": {
        "id": "XZZQXc9b1pPb",
        "colab_type": "text"
      },
      "source": [
        "## Unseen Data\n",
        "\n",
        "Since we assume conditional independence across our features, our numerator term for any of the above equations can be broken into the following.\n",
        "\n",
        "\\begin{equation}\n",
        "P(\\text {my name is Ari} | \\text {en}) = P(\\text {my} | \\text {en}) \\times P(\\text {name} | \\text {en}) \\times P(\\text {is} | \\text {en}) \\times P(\\text {Ari} | \\text {en})\n",
        "\\end{equation}"
      ]
    },
    {
      "cell_type": "markdown",
      "metadata": {
        "id": "S4wgZ4N_1pPd",
        "colab_type": "text"
      },
      "source": [
        "## Vectorizing Training Data"
      ]
    },
    {
      "cell_type": "markdown",
      "metadata": {
        "id": "D8njEI5o1pPe",
        "colab_type": "text"
      },
      "source": [
        "|Sentence   \t||   my   \t| is \t| I \t| love \t| name \t| it \t| Ari \t|\n",
        "|-----------------\t||:------:\t|:--:\t|:-:\t|:----:\t|:----:\t|:--------:\t|:---:\t|\n",
        "| my name is Ari  \t||    1   \t|  1 \t| 0 \t|   0  \t|   1  \t|     0    \t|  1  \t|\n",
        "| I love it \t||    0   \t|  0 \t| 1 \t|   1  \t|   0  \t|     1    \t|  0  \t|"
      ]
    },
    {
      "cell_type": "code",
      "metadata": {
        "ExecuteTime": {
          "end_time": "2020-02-19T11:23:22.635948Z",
          "start_time": "2020-02-19T11:23:22.631151Z"
        },
        "id": "ebGk6pkz1pPg",
        "colab_type": "code",
        "colab": {}
      },
      "source": [
        "sentences_train, y_train = [], []\n",
        "for k,v in data_preprocessed.items():\n",
        "  for sentence in v:\n",
        "    sentences_train.append(sentence)\n",
        "    y_train.append(k)"
      ],
      "execution_count": 0,
      "outputs": []
    },
    {
      "cell_type": "code",
      "metadata": {
        "ExecuteTime": {
          "end_time": "2020-02-19T11:23:22.909139Z",
          "start_time": "2020-02-19T11:23:22.907106Z"
        },
        "id": "s7LPb7_o1pPm",
        "colab_type": "code",
        "colab": {}
      },
      "source": [
        "vectorizer = CountVectorizer()"
      ],
      "execution_count": 0,
      "outputs": []
    },
    {
      "cell_type": "code",
      "metadata": {
        "ExecuteTime": {
          "end_time": "2020-02-19T11:23:23.077339Z",
          "start_time": "2020-02-19T11:23:23.067991Z"
        },
        "id": "TK8wmihG1pPt",
        "colab_type": "code",
        "colab": {}
      },
      "source": [
        "X_train = vectorizer.fit_transform(sentences_train)"
      ],
      "execution_count": 0,
      "outputs": []
    },
    {
      "cell_type": "code",
      "metadata": {
        "ExecuteTime": {
          "end_time": "2020-02-19T11:23:23.209192Z",
          "start_time": "2020-02-19T11:23:23.206135Z"
        },
        "id": "zm0DtF661pPy",
        "colab_type": "code",
        "colab": {}
      },
      "source": [
        "X_train"
      ],
      "execution_count": 0,
      "outputs": []
    },
    {
      "cell_type": "markdown",
      "metadata": {
        "id": "whrtKNE71pP3",
        "colab_type": "text"
      },
      "source": [
        "## Initializing Model Parameters and Training"
      ]
    },
    {
      "cell_type": "code",
      "metadata": {
        "ExecuteTime": {
          "end_time": "2020-02-19T11:23:23.489747Z",
          "start_time": "2020-02-19T11:23:23.485139Z"
        },
        "id": "iQ4KYWAa1pP4",
        "colab_type": "code",
        "colab": {}
      },
      "source": [
        "naive_classifier = MultinomialNB()\n",
        "naive_classifier.fit(X_train,y_train)"
      ],
      "execution_count": 0,
      "outputs": []
    },
    {
      "cell_type": "markdown",
      "metadata": {
        "id": "pZuNyJiv1pP8",
        "colab_type": "text"
      },
      "source": [
        "## Vectorizing Validation Data and Evaluating Model"
      ]
    },
    {
      "cell_type": "code",
      "metadata": {
        "ExecuteTime": {
          "end_time": "2020-02-19T11:23:23.636788Z",
          "start_time": "2020-02-19T11:23:23.621292Z"
        },
        "id": "TX0wPw2W1pP8",
        "colab_type": "code",
        "colab": {}
      },
      "source": [
        "data_val = dict()\n",
        "data_val['sk']= open_file('Data/Sentences/val_sentences.sk')\n",
        "data_val['cs']= open_file('Data/Sentences/val_sentences.cs')\n",
        "data_val['en']= open_file('Data/Sentences/val_sentences.en')\n",
        "\n",
        "data_val_preprocessed = {k: [preprocess(sentence) for sentence in v] for k,v in data_val.items()}"
      ],
      "execution_count": 0,
      "outputs": []
    },
    {
      "cell_type": "code",
      "metadata": {
        "ExecuteTime": {
          "end_time": "2020-02-19T11:23:23.934515Z",
          "start_time": "2020-02-19T11:23:23.759224Z"
        },
        "id": "owrXPLK71pQA",
        "colab_type": "code",
        "colab": {}
      },
      "source": [
        "sentences_val, y_val = [], []\n",
        "\n",
        "for k,v in data_val_preprocessed.items():\n",
        "  for sentence in v:\n",
        "    sentences_val.append(sentence)\n",
        "    y_val.append(k) "
      ],
      "execution_count": 0,
      "outputs": []
    },
    {
      "cell_type": "code",
      "metadata": {
        "ExecuteTime": {
          "end_time": "2020-02-19T11:23:24.185184Z",
          "start_time": "2020-02-19T11:23:23.936169Z"
        },
        "id": "14ixIqGl1pQD",
        "colab_type": "code",
        "colab": {}
      },
      "source": [
        "X_val = vectorizer.transform(sentences_val)"
      ],
      "execution_count": 0,
      "outputs": []
    },
    {
      "cell_type": "code",
      "metadata": {
        "ExecuteTime": {
          "end_time": "2020-02-19T11:23:24.190168Z",
          "start_time": "2020-02-19T11:23:24.187055Z"
        },
        "id": "cdW-IDaI1pQG",
        "colab_type": "code",
        "colab": {}
      },
      "source": [
        "predictions = naive_classifier.predict(X_val)"
      ],
      "execution_count": 0,
      "outputs": []
    },
    {
      "cell_type": "code",
      "metadata": {
        "ExecuteTime": {
          "end_time": "2020-02-19T11:23:24.195726Z",
          "start_time": "2020-02-19T11:23:24.191814Z"
        },
        "id": "auX1v64T1pQJ",
        "colab_type": "code",
        "colab": {}
      },
      "source": [
        "plot_confusion_matrix(y_val, predictions, ['sk', 'cs', 'en'])"
      ],
      "execution_count": 0,
      "outputs": []
    },
    {
      "cell_type": "code",
      "metadata": {
        "id": "e5zMGcln1pQM",
        "colab_type": "code",
        "colab": {}
      },
      "source": [
        "f1_score(y_val, predictions, average='weighted')"
      ],
      "execution_count": 0,
      "outputs": []
    },
    {
      "cell_type": "markdown",
      "metadata": {
        "id": "7aKgufGF1pQT",
        "colab_type": "text"
      },
      "source": [
        "<a id='task4'></a>\n",
        "# Task 4: Simple Adjustments and Highlighting Model Shortcomings"
      ]
    },
    {
      "cell_type": "code",
      "metadata": {
        "ExecuteTime": {
          "end_time": "2020-02-19T11:30:37.132532Z",
          "start_time": "2020-02-19T11:30:36.951960Z"
        },
        "id": "rB_NX_zq1pQU",
        "colab_type": "code",
        "colab": {}
      },
      "source": [
        "naive_classifier- MultinomialNB(alpha = 0.0001, fit_prior=False)\n",
        "naive_classifier.fit(X_train,y_train)\n",
        "\n",
        "predictions = naive_classifier.predict(X_val)\n",
        "\n",
        "plot_confusion_matrix(y_val, predictions, ['sk', 'cs', 'en'])"
      ],
      "execution_count": 0,
      "outputs": []
    },
    {
      "cell_type": "code",
      "metadata": {
        "id": "eIg0WeeJ1pQZ",
        "colab_type": "code",
        "colab": {}
      },
      "source": [
        "f1_score(y_val, predictions, average='weighted')"
      ],
      "execution_count": 0,
      "outputs": []
    },
    {
      "cell_type": "markdown",
      "metadata": {
        "id": "oN59xKfB1pQb",
        "colab_type": "text"
      },
      "source": [
        "<a id='task5'></a>\n",
        "# Task 5: Using Subwords to Shift Perspective"
      ]
    },
    {
      "cell_type": "markdown",
      "metadata": {
        "id": "K3L9hs-v1pQc",
        "colab_type": "text"
      },
      "source": [
        "**Dummy Dataset**\n",
        "\n",
        "playing ; eating ; play ; reads ; tea\n",
        "\n",
        "**Step 1**\n",
        "\n",
        "Break each word into characters\n",
        "\n",
        "playing > p l a y i n g\n",
        "\n",
        "\n",
        "**Step 2**\n",
        "\n",
        "Find common character sequences\n",
        "\n",
        "ea, ing, play\n",
        "\n",
        "**Step 3**\n",
        "\n",
        "Convert dataset using these subwords into\n",
        "\n",
        "play ing ; ea t ing ; play ; r ea d s ; t ea"
      ]
    },
    {
      "cell_type": "code",
      "metadata": {
        "ExecuteTime": {
          "end_time": "2020-02-21T14:31:24.609673Z",
          "start_time": "2020-02-21T14:31:24.591140Z"
        },
        "id": "F8JiO9rB1pQd",
        "colab_type": "code",
        "colab": {}
      },
      "source": [
        "# taken from https://arxiv.org/abs/1508.07909\n",
        "\n",
        "import re, collections\n",
        "def get_stats(vocab):\n",
        "    pairs = collections.defaultdict(int) \n",
        "    for word, freq in vocab.items():\n",
        "        symbols = word.split()\n",
        "        for i in range(len(symbols)-1):\n",
        "            pairs[symbols[i],symbols[i+1]] += freq \n",
        "    return pairs\n",
        "\n",
        "def merge_vocab(pair, v_in):\n",
        "    v_out = {}\n",
        "    bigram = re.escape(' '.join(pair))\n",
        "    p = re.compile(r'(?<!\\S)' + bigram + r'(?!\\S)')\n",
        "    for word in v_in:\n",
        "        w_out = p.sub(''.join(pair), word)\n",
        "        v_out[w_out] = v_in[word] \n",
        "    return v_out"
      ],
      "execution_count": 0,
      "outputs": []
    },
    {
      "cell_type": "code",
      "metadata": {
        "ExecuteTime": {
          "end_time": "2020-02-21T14:33:38.592851Z",
          "start_time": "2020-02-21T14:33:38.588298Z"
        },
        "id": "sTOqtMJq1pQg",
        "colab_type": "code",
        "colab": {}
      },
      "source": [
        "def get_vocab(data):\n",
        "\n",
        "    words = []\n",
        "    for sentence in data:\n",
        "        words.extend(sentence.split())\n",
        "        \n",
        "    vocab = defaultdict(int)\n",
        "    for word in words:\n",
        "        vocab[' '.join(word)] += 1\n",
        "        \n",
        "    return vocab"
      ],
      "execution_count": 0,
      "outputs": []
    },
    {
      "cell_type": "code",
      "metadata": {
        "ExecuteTime": {
          "end_time": "2020-02-21T14:42:30.908840Z",
          "start_time": "2020-02-21T14:42:30.902323Z"
        },
        "id": "NkiK5w4M1pQm",
        "colab_type": "code",
        "colab": {}
      },
      "source": [
        "vocab = get_vocab(sentences_train)"
      ],
      "execution_count": 0,
      "outputs": []
    },
    {
      "cell_type": "code",
      "metadata": {
        "ExecuteTime": {
          "end_time": "2020-02-21T15:08:23.046799Z",
          "start_time": "2020-02-21T15:08:22.512182Z"
        },
        "id": "FPvENMS81pQs",
        "colab_type": "code",
        "colab": {}
      },
      "source": [
        "# also taken from original paper\n",
        "for i in range(100):\n",
        "    pairs = get_stats(vocab)\n",
        "    best = max(pairs, key=pairs.get) \n",
        "    vocab = merge_vocab(best, vocab)"
      ],
      "execution_count": 0,
      "outputs": []
    },
    {
      "cell_type": "code",
      "metadata": {
        "ExecuteTime": {
          "end_time": "2020-02-21T15:08:35.050453Z",
          "start_time": "2020-02-21T15:08:35.018188Z"
        },
        "id": "jZz9d-4t1pQv",
        "colab_type": "code",
        "colab": {}
      },
      "source": [
        "merges = defaultdict(int)\n",
        "for k, v in vocab.items():\n",
        "    for subword in k.split():\n",
        "        if len(subword) >= 2:\n",
        "            merges[subword] += v"
      ],
      "execution_count": 0,
      "outputs": []
    },
    {
      "cell_type": "code",
      "metadata": {
        "ExecuteTime": {
          "end_time": "2020-02-21T15:48:55.818520Z",
          "start_time": "2020-02-21T15:48:55.815608Z"
        },
        "id": "-C2P3FVO1pQ1",
        "colab_type": "code",
        "colab": {}
      },
      "source": [
        "merge_ordered = sorted(merges, key=merges.get, reverse=True)"
      ],
      "execution_count": 0,
      "outputs": []
    },
    {
      "cell_type": "code",
      "metadata": {
        "id": "WZt5AYrw1pQ6",
        "colab_type": "code",
        "colab": {}
      },
      "source": [
        "pkl.dump(merge_ordered, open('Data/Auxiliary/merge_ordered.pkl', 'wb'))"
      ],
      "execution_count": 0,
      "outputs": []
    },
    {
      "cell_type": "code",
      "metadata": {
        "ExecuteTime": {
          "end_time": "2020-02-21T16:00:58.478086Z",
          "start_time": "2020-02-21T16:00:58.474166Z"
        },
        "id": "r9rD0mBM1pQ_",
        "colab_type": "code",
        "colab": {}
      },
      "source": [
        "def split_into_subwords(text):\n",
        "    merges = pkl.load(open('Data/Auxiliary/merge_ordered.pkl', 'rb'))\n",
        "    subwords = []\n",
        "    for word in text.split():\n",
        "        for subword in merges:\n",
        "            subword_count = word.count(subword)\n",
        "            if subword_count > 0:\n",
        "                word = word.replace(subword, ' ')\n",
        "                subwords.extend([subword]*subword_count)\n",
        "    return ' '.join(subwords)"
      ],
      "execution_count": 0,
      "outputs": []
    },
    {
      "cell_type": "code",
      "metadata": {
        "ExecuteTime": {
          "end_time": "2020-02-21T16:00:58.872196Z",
          "start_time": "2020-02-21T16:00:58.868568Z"
        },
        "id": "UpEMJ_4q1pRE",
        "colab_type": "code",
        "colab": {}
      },
      "source": [
        "split_into_subwords(\"hello my name is ari\")"
      ],
      "execution_count": 0,
      "outputs": []
    },
    {
      "cell_type": "code",
      "metadata": {
        "id": "C_mqotEr1pRK",
        "colab_type": "code",
        "colab": {}
      },
      "source": [
        "data_preprocessed_subwords = {k: [split_into_subwords(sentence) for sentence in v] for k,v in data_preprocessed.items()}"
      ],
      "execution_count": 0,
      "outputs": []
    },
    {
      "cell_type": "code",
      "metadata": {
        "ExecuteTime": {
          "end_time": "2020-02-21T17:03:18.258270Z",
          "start_time": "2020-02-21T17:03:18.254862Z"
        },
        "id": "71HwI8dx1pRP",
        "colab_type": "code",
        "colab": {}
      },
      "source": [
        "show_statistics(data_preprocessed_subwords)"
      ],
      "execution_count": 0,
      "outputs": []
    },
    {
      "cell_type": "code",
      "metadata": {
        "ExecuteTime": {
          "end_time": "2020-02-21T17:03:45.654014Z",
          "start_time": "2020-02-21T17:03:45.245540Z"
        },
        "id": "ap8LPanH1pRT",
        "colab_type": "code",
        "colab": {}
      },
      "source": [
        "data_train_subwords = []\n",
        "for sentence in sentences_train:\n",
        "  data_train_subwords.append(split_into_subwords(sentence))"
      ],
      "execution_count": 0,
      "outputs": []
    },
    {
      "cell_type": "code",
      "metadata": {
        "ExecuteTime": {
          "end_time": "2020-02-21T17:03:47.710148Z",
          "start_time": "2020-02-21T17:03:47.400758Z"
        },
        "id": "AherYTLG1pRa",
        "colab_type": "code",
        "colab": {}
      },
      "source": [
        "data_val_subwords = []\n",
        "for sentence in sentences_val:\n",
        "  data_val_subwords.append(split_into_subwords(sentence))"
      ],
      "execution_count": 0,
      "outputs": []
    },
    {
      "cell_type": "code",
      "metadata": {
        "id": "zHAVX5-i1pRf",
        "colab_type": "code",
        "colab": {}
      },
      "source": [
        "vectorizer = CountVectorizer()"
      ],
      "execution_count": 0,
      "outputs": []
    },
    {
      "cell_type": "code",
      "metadata": {
        "id": "Rkqinku01pRk",
        "colab_type": "code",
        "colab": {}
      },
      "source": [
        "X_train = vectorizer.fit_tranform(data_train_subwords)\n",
        "X_val = vectorizer.tranform(data_val_subwords)"
      ],
      "execution_count": 0,
      "outputs": []
    },
    {
      "cell_type": "code",
      "metadata": {
        "id": "JMg3GZbQ1pRq",
        "colab_type": "code",
        "colab": {}
      },
      "source": [
        "naive_classifier = MultinomialNB(alpha = 1, fit_prior = False)\n",
        "naive_classifier.fit(X_train,y_train)\n",
        "\n",
        "predictions = naive_classifier.predict(X_val)"
      ],
      "execution_count": 0,
      "outputs": []
    },
    {
      "cell_type": "code",
      "metadata": {
        "id": "J0axdxZT1pRv",
        "colab_type": "code",
        "colab": {}
      },
      "source": [
        "plot_confusion_matrix(y_val, predictions, ['sk', 'cs', 'en'])"
      ],
      "execution_count": 0,
      "outputs": []
    },
    {
      "cell_type": "code",
      "metadata": {
        "id": "axBoo_7r1pR1",
        "colab_type": "code",
        "colab": {}
      },
      "source": [
        "f1_score(y_val, predictions, average='weighted')f1_scor"
      ],
      "execution_count": 0,
      "outputs": []
    },
    {
      "cell_type": "code",
      "metadata": {
        "id": "acFCJWP31pR5",
        "colab_type": "code",
        "colab": {}
      },
      "source": [
        "joblib.dump(naive_classifier, 'Data/Models/final_model.joblib')\n",
        "joblib.dump(vectorizer, 'Data/Vectorizer/final_model.joblib')"
      ],
      "execution_count": 0,
      "outputs": []
    },
    {
      "cell_type": "code",
      "metadata": {
        "id": "Le2RTkph1pR_",
        "colab_type": "code",
        "colab": {}
      },
      "source": [
        ""
      ],
      "execution_count": 0,
      "outputs": []
    }
  ]
}